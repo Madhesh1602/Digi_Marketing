{
 "cells": [
  {
   "cell_type": "code",
   "execution_count": 1,
   "metadata": {},
   "outputs": [],
   "source": [
    "import sys\n",
    "\n",
    "sys.path.append(\"../scripts\")"
   ]
  },
  {
   "cell_type": "markdown",
   "metadata": {},
   "source": [
    "### Image Description Model"
   ]
  },
  {
   "cell_type": "code",
   "execution_count": 3,
   "metadata": {},
   "outputs": [],
   "source": [
    "from ImageDescription import GetImageDescription\n",
    "\n",
    "img_file = \"../data/images/SVGZ-GenAIPharma-Ex5.jpg\"\n",
    "\n",
    "description = GetImageDescription.describe(img_file)"
   ]
  },
  {
   "cell_type": "code",
   "execution_count": 5,
   "metadata": {},
   "outputs": [
    {
     "name": "stdout",
     "output_type": "stream",
     "text": [
      "The image is a graphic depicting the capabilities of quality assurance specialists, both present and future. It shows how generative AI can be used to improve efficiency and effectiveness in various tasks, including searching for deviations, conducting investigations, generating reports, and developing standard operating procedures (SOPs). The graphic highlights the benefits of using generative AI, such as faster corrective actions, reduced deviations, and improved quality of investigation output. The source of the information is McKinsey analysis. \n",
      "\n"
     ]
    }
   ],
   "source": [
    "print(description)"
   ]
  }
 ],
 "metadata": {
  "kernelspec": {
   "display_name": "digital-marketing",
   "language": "python",
   "name": "python3"
  },
  "language_info": {
   "codemirror_mode": {
    "name": "ipython",
    "version": 3
   },
   "file_extension": ".py",
   "mimetype": "text/x-python",
   "name": "python",
   "nbconvert_exporter": "python",
   "pygments_lexer": "ipython3",
   "version": "3.11.9"
  }
 },
 "nbformat": 4,
 "nbformat_minor": 2
}
